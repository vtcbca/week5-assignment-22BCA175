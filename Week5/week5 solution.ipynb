{
 "cells": [
  {
   "cell_type": "code",
   "execution_count": 6,
   "id": "3a2b46b8",
   "metadata": {},
   "outputs": [],
   "source": [
    "import csv"
   ]
  },
  {
   "cell_type": "code",
   "execution_count": 7,
   "id": "e25ee6f7",
   "metadata": {},
   "outputs": [],
   "source": [
    "f=open('student.csv','w',newline='')"
   ]
  },
  {
   "cell_type": "code",
   "execution_count": 8,
   "id": "f9c515e1",
   "metadata": {},
   "outputs": [],
   "source": [
    "w=csv.writer(f)"
   ]
  },
  {
   "cell_type": "code",
   "execution_count": 9,
   "id": "65ea1c21",
   "metadata": {},
   "outputs": [],
   "source": [
    "h=['sid','sname','city','contact']"
   ]
  },
  {
   "cell_type": "code",
   "execution_count": 10,
   "id": "2f121fb3",
   "metadata": {},
   "outputs": [
    {
     "data": {
      "text/plain": [
       "24"
      ]
     },
     "execution_count": 10,
     "metadata": {},
     "output_type": "execute_result"
    }
   ],
   "source": [
    "w.writerow(h)"
   ]
  },
  {
   "cell_type": "code",
   "execution_count": 11,
   "id": "68b7528f",
   "metadata": {},
   "outputs": [],
   "source": [
    "r=[[1,'Om','Surat',9099451240],[2,'Sai','Navsari',8548445725],[3,'Ram','Bardoli',4532657815],[4,'Dev','Vapi',1678451358],[5,'Raj','Tapi',7622914975]]"
   ]
  },
  {
   "cell_type": "code",
   "execution_count": 12,
   "id": "34e20f25",
   "metadata": {},
   "outputs": [],
   "source": [
    "w.writerows(r)"
   ]
  },
  {
   "cell_type": "code",
   "execution_count": 13,
   "id": "b0ccde8c",
   "metadata": {},
   "outputs": [],
   "source": [
    "f.close()"
   ]
  },
  {
   "cell_type": "code",
   "execution_count": 14,
   "id": "9b758c38",
   "metadata": {},
   "outputs": [],
   "source": [
    "f=open('student.csv','a',newline='')"
   ]
  },
  {
   "cell_type": "code",
   "execution_count": 15,
   "id": "bef5bf05",
   "metadata": {},
   "outputs": [],
   "source": [
    "w=csv.writer(f)"
   ]
  },
  {
   "cell_type": "code",
   "execution_count": 16,
   "id": "c595d543",
   "metadata": {},
   "outputs": [],
   "source": [
    "l=[]"
   ]
  },
  {
   "cell_type": "code",
   "execution_count": 17,
   "id": "ae4fcbb4",
   "metadata": {},
   "outputs": [
    {
     "name": "stdout",
     "output_type": "stream",
     "text": [
      "Enter Student ID:6\n",
      "Enter Student Name:Raja\n",
      "Enter City:Surat\n",
      "Enter Contact:6598324512\n",
      "Enter Student ID:7\n",
      "Enter Student Name:Sujal\n",
      "Enter City:Bardoli\n",
      "Enter Contact:78745126532\n",
      "Enter Student ID:8\n",
      "Enter Student Name:Meet\n",
      "Enter City:Navsari\n",
      "Enter Contact:6532984512\n",
      "Enter Student ID:9\n",
      "Enter Student Name:Neel\n",
      "Enter City:Vyara\n",
      "Enter Contact:6598324512\n",
      "Enter Student ID:10\n",
      "Enter Student Name:Vraj\n",
      "Enter City:Tapi\n",
      "Enter Contact:9510637356\n"
     ]
    }
   ],
   "source": [
    "for i in range(5):\n",
    "    sid=int(input('Enter Student ID:'))\n",
    "    sname=input('Enter Student Name:')\n",
    "    city=input('Enter City:')\n",
    "    contact=int(input('Enter Contact:'))\n",
    "    r=[sid,sname,city,contact]\n",
    "    l.append(r)"
   ]
  },
  {
   "cell_type": "code",
   "execution_count": 18,
   "id": "8b4c9c25",
   "metadata": {},
   "outputs": [],
   "source": [
    "w.writerows(l)"
   ]
  },
  {
   "cell_type": "code",
   "execution_count": 19,
   "id": "1fbf45b1",
   "metadata": {},
   "outputs": [],
   "source": [
    "f.close()"
   ]
  },
  {
   "cell_type": "code",
   "execution_count": 20,
   "id": "3d001c6f",
   "metadata": {},
   "outputs": [],
   "source": [
    "f=open('student.csv','r',newline='')"
   ]
  },
  {
   "cell_type": "code",
   "execution_count": 21,
   "id": "35ade5f0",
   "metadata": {},
   "outputs": [],
   "source": [
    "r=csv.reader(f)"
   ]
  },
  {
   "cell_type": "code",
   "execution_count": 22,
   "id": "7de4268f",
   "metadata": {},
   "outputs": [
    {
     "name": "stdout",
     "output_type": "stream",
     "text": [
      "['sid', 'sname', 'city', 'contact']\n",
      "['1', 'Om', 'Surat', '9099451240']\n",
      "['2', 'Sai', 'Navsari', '8548445725']\n",
      "['3', 'Ram', 'Bardoli', '4532657815']\n",
      "['4', 'Dev', 'Vapi', '1678451358']\n",
      "['5', 'Raj', 'Tapi', '7622914975']\n",
      "['6', 'Raja', 'Surat', '6598324512']\n",
      "['7', 'Sujal', 'Bardoli', '78745126532']\n",
      "['8', 'Meet', 'Navsari', '6532984512']\n",
      "['9', 'Neel', 'Vyara', '6598324512']\n",
      "['10', 'Vraj', 'Tapi', '9510637356']\n"
     ]
    }
   ],
   "source": [
    "for i in r:\n",
    "    print(i)"
   ]
  },
  {
   "cell_type": "code",
   "execution_count": null,
   "id": "c0604866",
   "metadata": {},
   "outputs": [],
   "source": []
  }
 ],
 "metadata": {
  "kernelspec": {
   "display_name": "Python 3 (ipykernel)",
   "language": "python",
   "name": "python3"
  },
  "language_info": {
   "codemirror_mode": {
    "name": "ipython",
    "version": 3
   },
   "file_extension": ".py",
   "mimetype": "text/x-python",
   "name": "python",
   "nbconvert_exporter": "python",
   "pygments_lexer": "ipython3",
   "version": "3.9.6"
  }
 },
 "nbformat": 4,
 "nbformat_minor": 5
}
